{
  "nbformat": 4,
  "nbformat_minor": 0,
  "metadata": {
    "colab": {
      "provenance": []
    },
    "kernelspec": {
      "name": "python3",
      "display_name": "Python 3"
    },
    "language_info": {
      "name": "python"
    }
  },
  "cells": [
    {
      "cell_type": "code",
      "source": [
        "#this code is to build vrt file for hwi 1960-2024\n",
        "#also export vrt files into gtiff of each indicators"
      ],
      "metadata": {
        "id": "SEhPfeIPUnef"
      },
      "execution_count": null,
      "outputs": []
    },
    {
      "cell_type": "code",
      "execution_count": null,
      "metadata": {
        "colab": {
          "base_uri": "https://localhost:8080/"
        },
        "id": "DxXtOp6VLhmf",
        "outputId": "87a5ea1b-89d3-44f0-bb0f-68e75086fa46"
      },
      "outputs": [
        {
          "output_type": "stream",
          "name": "stdout",
          "text": [
            "Mounted at /content/drive\n"
          ]
        }
      ],
      "source": [
        "from google.colab import drive\n",
        "\n",
        "# This will prompt for authorization.\n",
        "drive.mount('/content/drive')"
      ]
    },
    {
      "cell_type": "code",
      "source": [
        "from osgeo import gdal\n",
        "import os"
      ],
      "metadata": {
        "id": "Jg4A41RAsDnk"
      },
      "execution_count": null,
      "outputs": []
    },
    {
      "cell_type": "code",
      "source": [
        "# Iterate through the years\n",
        "destination_root = '/content/drive/MyDrive/hwi_product'\n",
        "\n",
        "for index, start_year in enumerate(range(1960, 2024, 10), start=1):\n",
        "    print(f\"Index: {index}, Year: {start_year}\")\n",
        "\n",
        "    # Create the folder name based on the start year\n",
        "    folder_name = f'hwi_{start_year}s'\n",
        "\n",
        "    # Use float('nan') to represent NaN in Python\n",
        "    nan_value = float('nan')\n",
        "\n",
        "    # Create the local folder if it doesn't exist\n",
        "    vrt_folder_path = os.path.join(destination_root, folder_name)\n",
        "    filepaths = os.listdir(vrt_folder_path)\n",
        "    os.chdir(vrt_folder_path)\n",
        "    vrt_name ='temp.vrt'  # path to vrt to build\n",
        "    ds = gdal.BuildVRT(vrt_name, filepaths, options=gdal.BuildVRTOptions(-srcNodata=nan_value, VRTNodata=nan_value))\n",
        "    ds.FlushCache()"
      ],
      "metadata": {
        "id": "MGHI34VprocZ"
      },
      "execution_count": null,
      "outputs": []
    },
    {
      "cell_type": "code",
      "source": [],
      "metadata": {
        "id": "ZuZutWYzaKX_"
      },
      "execution_count": null,
      "outputs": []
    },
    {
      "cell_type": "code",
      "source": [],
      "metadata": {
        "id": "zdNLlZJV1kQS"
      },
      "execution_count": null,
      "outputs": []
    },
    {
      "cell_type": "code",
      "source": [],
      "metadata": {
        "id": "2zd4G3Rn1kF1"
      },
      "execution_count": null,
      "outputs": []
    }
  ]
}