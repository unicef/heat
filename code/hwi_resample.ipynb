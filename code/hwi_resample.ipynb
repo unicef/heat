{
  "nbformat": 4,
  "nbformat_minor": 0,
  "metadata": {
    "colab": {
      "provenance": []
    },
    "kernelspec": {
      "name": "python3",
      "display_name": "Python 3"
    },
    "language_info": {
      "name": "python"
    }
  },
  "cells": [
    {
      "cell_type": "code",
      "source": [
        "from google.colab import drive\n",
        "\n",
        "# This will prompt for authorization.\n",
        "drive.mount('/content/drive')"
      ],
      "metadata": {
        "colab": {
          "base_uri": "https://localhost:8080/"
        },
        "id": "EgTgeVC9fszl",
        "outputId": "42e68166-9148-40a2-ac50-bf629fd852e7"
      },
      "execution_count": null,
      "outputs": [
        {
          "output_type": "stream",
          "name": "stdout",
          "text": [
            "Mounted at /content/drive\n"
          ]
        }
      ]
    },
    {
      "cell_type": "code",
      "source": [
        "!pip install osgeo"
      ],
      "metadata": {
        "id": "zmx7QCDogGgp"
      },
      "execution_count": null,
      "outputs": []
    },
    {
      "cell_type": "code",
      "execution_count": null,
      "metadata": {
        "id": "vjXNheOgfku-"
      },
      "outputs": [],
      "source": [
        "import os\n",
        "from osgeo import gdal, osr\n",
        "\n",
        "# --- Reference Raster Setup ---\n",
        "reference_tif = \"/content/drive/MyDrive/GHS_POP_DATA/GHS_POP_E1975_GLOBE_R2023A_4326_30ss_V1_0.tif\"\n",
        "\n",
        "ref_ds = gdal.Open(reference_tif)\n",
        "if ref_ds is None:\n",
        "    raise ValueError(f\"Could not open reference TIFF file: {reference_tif}\")\n",
        "\n",
        "ref_proj = ref_ds.GetProjection()\n",
        "ref_geotrans = ref_ds.GetGeoTransform()\n",
        "ref_srs = osr.SpatialReference()\n",
        "ref_srs.ImportFromWkt(ref_proj)\n",
        "\n",
        "ref_x_min, ref_pixel_width, _, ref_y_max, _, ref_pixel_height = ref_ds.GetGeoTransform()\n",
        "ref_x_max = ref_x_min + (ref_ds.RasterXSize * ref_pixel_width)\n",
        "ref_y_min = ref_y_max + (ref_ds.RasterYSize * ref_pixel_height)\n",
        "\n",
        "# --- Input/Output Directories ---\n",
        "input_dir = '/content/drive/MyDrive/hwi_stats/dgca_back'\n",
        "output_dir = '/content/drive/MyDrive/CCRI/scratch'\n",
        "\n",
        "# --- Reprojection Loop ---\n",
        "for year in range(1960, 2030, 10):\n",
        "    tif_path = os.path.join(input_dir, f'average_hwi_{year}s.tif')\n",
        "    reprojected_path = os.path.join(output_dir, f'average_hwi_{year}s.tif')\n",
        "\n",
        "    # Check if input file exists and is a valid GDAL dataset\n",
        "    input_ds = gdal.Open(tif_path)\n",
        "    if input_ds is None:\n",
        "        print(f\"Error opening input file: {tif_path}. Skipping.\")\n",
        "        continue\n",
        "\n",
        "    # Check if output directory exists, create it if not\n",
        "    os.makedirs(output_dir, exist_ok=True)\n",
        "\n",
        "    try:\n",
        "        # Reproject only if the file is valid\n",
        "        gdal.Warp(\n",
        "            reprojected_path,\n",
        "            input_ds,\n",
        "            dstSRS=ref_srs,\n",
        "            outputBounds=[ref_x_min, ref_y_min, ref_x_max, ref_y_max],\n",
        "            xRes=ref_pixel_width,\n",
        "            yRes=ref_pixel_height\n",
        "        )\n",
        "    except Exception as e:\n",
        "        print(f\"Error reprojecting {tif_path}: {e}\")\n",
        "    finally:\n",
        "        input_ds = None  # Close the input file\n",
        "\n",
        "print(\"Reprojection completed.\")"
      ]
    },
    {
      "cell_type": "code",
      "source": [],
      "metadata": {
        "id": "gyzG3IQFfsJC"
      },
      "execution_count": null,
      "outputs": []
    }
  ]
}