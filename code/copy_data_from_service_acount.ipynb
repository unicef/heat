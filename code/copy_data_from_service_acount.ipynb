{
  "cells": [
    {
      "cell_type": "code",
      "execution_count": null,
      "metadata": {
        "colab": {
          "base_uri": "https://localhost:8080/"
        },
        "id": "K0mNHhVRWCTr",
        "outputId": "a80abe73-4caa-4810-db91-fbb45b240ded"
      },
      "outputs": [
        {
          "output_type": "stream",
          "name": "stdout",
          "text": [
            "Mounted at /content/drive\n"
          ]
        }
      ],
      "source": [
        "from google.colab import drive\n",
        "\n",
        "# This will prompt for authorization.\n",
        "drive.mount('/content/drive')\n"
      ]
    },
    {
      "cell_type": "code",
      "source": [
        "import os\n",
        "from pydrive.auth import GoogleAuth\n",
        "from pydrive.drive import GoogleDrive\n",
        "from oauth2client.service_account import ServiceAccountCredentials\n",
        "\n",
        "\n",
        "# Ensure the destination root directory exists\n",
        "destination_root = '/content/drive/MyDrive/hwi_product'\n",
        "if not os.path.exists(destination_root):\n",
        "    os.makedirs(destination_root)\n",
        "\n",
        "# Scope for Google Drive authentication\n",
        "scope = ['https://www.googleapis.com/auth/drive']\n",
        "\n",
        "# Initialize GoogleAuth\n",
        "gauth = GoogleAuth()\n",
        "\n",
        "# Function to download a file from Google Drive\n",
        "def download_file(file, destination_folder):\n",
        "    file_path = os.path.join(destination_folder, file['title'])\n",
        "    file.GetContentFile(file_path)\n",
        "    print(f\"Downloaded: {file['title']} to {file_path}\")\n",
        "\n",
        "# Function to find a folder by name\n",
        "def find_folder_by_name(drive, folder_name):\n",
        "    folder_list = drive.ListFile({'q': f\"title='{folder_name}' and mimeType='application/vnd.google-apps.folder' and trashed=false\"}).GetList()\n",
        "    if folder_list:\n",
        "        return folder_list[0]\n",
        "    return None\n",
        "\n",
        "# Iterate through the years with corresponding service accounts\n",
        "for index, start_year in enumerate(range(1960, 2024, 10), start=1):\n",
        "    print(f\"Index: {index}, Year: {start_year}\")\n",
        "\n",
        "    # Select the service account JSON file\n",
        "    private_key_file = f'/content/drive/MyDrive/Colab Notebooks/gee/unicef-ccri{index}.json'\n",
        "\n",
        "    # Create the folder name based on the start year\n",
        "    folder_name = f'hwi_{start_year}s'\n",
        "\n",
        "    # Create the local folder if it doesn't exist\n",
        "    local_folder_path = os.path.join(destination_root, folder_name)\n",
        "    if not os.path.exists(local_folder_path):\n",
        "        os.mkdir(local_folder_path)\n",
        "\n",
        "    # Authenticate to the Google Drive of the Service Account\n",
        "    gauth.credentials = ServiceAccountCredentials.from_json_keyfile_name(private_key_file, scopes=scope)\n",
        "    drive = GoogleDrive(gauth)\n",
        "\n",
        "    # Find the folder by name in Google Drive\n",
        "    folder = find_folder_by_name(drive, folder_name)\n",
        "\n",
        "    if folder:\n",
        "        print(f\"Found folder: {folder_name} with ID: {folder['id']}\")\n",
        "\n",
        "        # List files in the found folder\n",
        "        file_list = drive.ListFile({'q': f\"'{folder['id']}' in parents and trashed=false\"}).GetList()\n",
        "        for file in file_list:\n",
        "            print('Title: %s, ID: %s' % (file['title'], file['id']))\n",
        "\n",
        "            # Download each file to the local folder\n",
        "            download_file(file, local_folder_path)\n",
        "    else:\n",
        "        print(f\"Folder {folder_name} not found in Google Drive.\")\n",
        "\n",
        "# Note: Ensure to reset any state if necessary after the loop\n"
      ],
      "metadata": {
        "id": "fW0ATx_aCHQL"
      },
      "execution_count": null,
      "outputs": []
    },
    {
      "cell_type": "code",
      "execution_count": null,
      "metadata": {
        "id": "KIqYSAw0tMYt"
      },
      "outputs": [],
      "source": []
    }
  ],
  "metadata": {
    "colab": {
      "provenance": []
    },
    "kernelspec": {
      "display_name": "Python 3",
      "name": "python3"
    },
    "language_info": {
      "name": "python"
    }
  },
  "nbformat": 4,
  "nbformat_minor": 0
}