{
  "cells": [
    {
      "cell_type": "code",
      "execution_count": null,
      "metadata": {
        "id": "FJA7YF7PrQGu"
      },
      "outputs": [],
      "source": [
        "# Heatwave: Any period of three days or more when the maximum temperature each day is in the top 10 per cent of the local 15-day average between 2000 and 2020.\n",
        "# Heatwave duration: Average length of heatwave event between 2000 and 2020 (Number of days).\n",
        "# Heatwave severity: Average exceedance in degrees Celsius of the heatwave threshold for each event between 2000 and 2020.\n",
        "# Extreme high temperature: Annual average number of days in which 35°C is exceeded between 2000 and 2020."
      ]
    },
    {
      "cell_type": "code",
      "execution_count": null,
      "metadata": {
        "colab": {
          "base_uri": "https://localhost:8080/"
        },
        "id": "Eno8ub3Npjpj",
        "outputId": "2e11bb5a-ba8a-417d-80b0-dd186965e7b1"
      },
      "outputs": [
        {
          "output_type": "stream",
          "name": "stdout",
          "text": [
            "Drive already mounted at /content/drive; to attempt to forcibly remount, call drive.mount(\"/content/drive\", force_remount=True).\n"
          ]
        }
      ],
      "source": [
        "from google.colab import drive\n",
        "\n",
        "# This will prompt for authorization.\n",
        "drive.mount('/content/drive')"
      ]
    },
    {
      "cell_type": "code",
      "execution_count": null,
      "metadata": {
        "id": "dCF-HtOZpv0V"
      },
      "outputs": [],
      "source": [
        "import ee\n",
        "import geopandas as gpd\n",
        "import pandas as pd\n",
        "import geopandas as gpd\n",
        "import numpy as np\n",
        "import time\n"
      ]
    },
    {
      "cell_type": "code",
      "execution_count": null,
      "metadata": {
        "id": "_WuRnc9_p-Mi"
      },
      "outputs": [],
      "source": [
        "# Implements a delegation chain to the target\n",
        "# credential.  Requires updates to IAM!\n",
        "# private_key='/content/drive/MyDrive/Colab Notebooks/gee/private-key.json'\n",
        "# service_account = 'climate-gee-project@ee-dohyungnim.iam.gserviceaccount.com'\n",
        "# credentials = ee.ServiceAccountCredentials(service_account, private_key)\n",
        "# ee.Initialize(credentials=credentials, project='ee-dohyungnim',opt_url='https://earthengine-highvolume.googleapis.com')\n"
      ]
    },
    {
      "cell_type": "code",
      "execution_count": null,
      "metadata": {
        "id": "qUsiflWbem8B"
      },
      "outputs": [],
      "source": [
        "ee.Authenticate()\n",
        "ee.Initialize(project='ee-dohyungnim',opt_url='https://earthengine-highvolume.googleapis.com')"
      ]
    },
    {
      "cell_type": "code",
      "execution_count": null,
      "metadata": {
        "id": "HF6DQCtGq1aW"
      },
      "outputs": [],
      "source": [
        "# Load ERA5 Daily Temperature dataset.\n",
        "era5_temp = ee.ImageCollection(\"ECMWF/ERA5_LAND/DAILY_AGGR\")"
      ]
    },
    {
      "cell_type": "code",
      "execution_count": null,
      "metadata": {
        "id": "Q6O6rsT0KXGB"
      },
      "outputs": [],
      "source": [
        "# Define the time range of baseline\n",
        "start_base = '1960-01-01'\n",
        "end_base = '1989-12-31'\n",
        "\n",
        "#range of years for hwi caluclation\n",
        "start_calc_year = 1960\n",
        "end_calc_year = 2024\n",
        "\n",
        "# Define total days and batch size\n",
        "total_days = 365\n",
        "batch_size = 10  #Define the number of days per batch\n",
        "\n",
        "dailyMeansCollection = ee.ImageCollection([]);\n",
        "\n"
      ]
    },
    {
      "cell_type": "code",
      "execution_count": null,
      "metadata": {
        "id": "nos2ca1r6q1n"
      },
      "outputs": [],
      "source": [
        "grid_file = \"/content/drive/MyDrive/CCRI/10degree_selected_tiles.csv\"\n",
        "data = pd.read_csv(grid_file)\n",
        "minx = data['left']\n",
        "maxy = data['top']\n",
        "maxx = data['right']\n",
        "miny = data['bottom']\n",
        "tile_id =data[\"id\"]\n",
        "grid_count = len(minx)"
      ]
    },
    {
      "cell_type": "code",
      "execution_count": null,
      "metadata": {
        "id": "58A1h9_2XppP"
      },
      "outputs": [],
      "source": [
        "era5_daily_temp_aoi = ee.ImageCollection(\"ECMWF/ERA5_LAND/DAILY_AGGR\")\\\n",
        "                                    .filterDate(start_base, end_base)\\\n",
        "                                    .select('temperature_2m_max')\n",
        "projection = era5_daily_temp_aoi.first().projection().getInfo()\n",
        "mask = era5_daily_temp_aoi.first().mask()"
      ]
    },
    {
      "cell_type": "code",
      "source": [],
      "metadata": {
        "id": "bKAg2RbW06-V"
      },
      "execution_count": null,
      "outputs": []
    },
    {
      "cell_type": "code",
      "source": [
        "def get_90th_percentile_temp(aoi, grid_id, start_base, end_base, total_days=365, batch_size=10):\n",
        "    # Load the ERA5 daily temperature dataset\n",
        "    era5_daily_temp_aoi = ee.ImageCollection(\"ECMWF/ERA5_LAND/DAILY_AGGR\")\\\n",
        "                                    .filterDate(start_base, end_base)\\\n",
        "                                    .select('temperature_2m_max')\n",
        "\n",
        "    # Define the collection to store the final results\n",
        "    final_collection = ee.ImageCollection([])\n",
        "\n",
        "    # Function to process images for a given day of the year\n",
        "    def process_day(day_of_year):\n",
        "        doy_filter = ee.Filter.calendarRange(day_of_year, day_of_year, 'day_of_year')\n",
        "        filtered_images = era5_daily_temp_aoi.filter(doy_filter)\n",
        "        daily_stack = filtered_images.toBands()\n",
        "        return daily_stack.set('day_of_year', day_of_year)\n",
        "\n",
        "    # Iterate over each batch of days within the total days range\n",
        "    for start_day in range(1, total_days + 1, batch_size):\n",
        "        end_day = start_day + batch_size - 1\n",
        "        if end_day > total_days:\n",
        "            end_day = total_days\n",
        "        # Generate a list of day sequences for the batch\n",
        "        days_batch = ee.List.sequence(start_day, end_day)\n",
        "        # Process each day in the batch and create an ImageCollection\n",
        "        batch_result = ee.ImageCollection.fromImages(days_batch.map(process_day))\n",
        "        # Merge the batch results into the final collection\n",
        "        final_collection = final_collection.merge(batch_result)\n",
        "\n",
        "    daily_means_collection = final_collection\n",
        "    final_collection = ee.ImageCollection([])\n",
        "\n",
        "    def calc_rolling_90th_percentile(day_of_year):\n",
        "        start_doy = ee.Number(day_of_year).subtract(7).max(1)\n",
        "        end_doy = ee.Number(day_of_year).add(7).min(365)  # Adjusted for standard year\n",
        "        window_collection = daily_means_collection.filter(ee.Filter.rangeContains('day_of_year', start_doy, end_doy))\n",
        "        # Flatten the ImageCollection to a single Image with all bands for percentile calculation\n",
        "        window_stack = window_collection.toBands()\n",
        "        percentile_90_image = window_stack.reduce(ee.Reducer.percentile([90]))\n",
        "        return percentile_90_image.set('day_of_year', day_of_year)\n",
        "\n",
        "    for start_day in range(1, total_days + 1, batch_size):\n",
        "        end_day = start_day + batch_size - 1\n",
        "        if end_day > total_days:\n",
        "            end_day = total_days  # Adjust for the last batch to not exceed the total days\n",
        "        days_batch = ee.List.sequence(start_day, end_day)\n",
        "        batch_result = days_batch.map(calc_rolling_90th_percentile)\n",
        "        final_collection = final_collection.merge(ee.ImageCollection.fromImages(batch_result))\n",
        "\n",
        "    rolling_90th_percentile_collection = final_collection\n",
        "\n",
        "    return rolling_90th_percentile_collection\n"
      ],
      "metadata": {
        "id": "vooyTN_x49vO"
      },
      "execution_count": null,
      "outputs": []
    },
    {
      "cell_type": "code",
      "source": [
        "def calc_indicators(rolling_90th_percentile_collection, start_date, end_date, year):\n",
        "    # Load and filter the ERA5 daily temperature dataset within the AOI\n",
        "    era5_daily_target = ee.ImageCollection(\"ECMWF/ERA5_LAND/DAILY_AGGR\")\\\n",
        "                                  .filterDate(start_date, end_date)\\\n",
        "                                  .select('temperature_2m_max')\n",
        "\n",
        "\n",
        "    # Function to identify extreme temperature days\n",
        "    def identify_extremes(image):\n",
        "        day_of_year = ee.Date(image.date()).getRelative('day', 'year').add(1)\n",
        "        percentile_90_image = rolling_90th_percentile_collection.filterMetadata('day_of_year', 'equals', day_of_year).first()\n",
        "\n",
        "        #extreme_temp = image.gt(percentile_90_image)\n",
        "        extreme_temp_degree = image.gt(308.15)  # 35 degrees Celsius in Kelvin\n",
        "        temp_difference = image.subtract(percentile_90_image)\n",
        "\n",
        "        return ee.Image.cat(temp_difference.rename('temp_diff'),\n",
        "                            extreme_temp_degree.rename('extreme_temp_degree'))\n",
        "\n",
        "    # Map the function over the daily temperature collection\n",
        "    extremes_collection = era5_daily_target.map(identify_extremes)\n",
        "    # Sum all the temperature differences for extreme days\n",
        "    temp_diff_collection = extremes_collection.select('temp_diff')\n",
        "    #extreme high temperature - higher than 35C\n",
        "    ext_high_temp_days = extremes_collection.select('extreme_temp_degree')\n",
        "    total_high_temp_degree_days = ext_high_temp_days.sum();\n",
        "\n",
        "    def update_streaks(img_tmp_diff, lists):\n",
        "        img_flag = img_tmp_diff.gt(0)\n",
        "\n",
        "        lists = ee.List(lists)\n",
        "        streak_count_list = ee.List(lists.get(0))  # Current streak counts\n",
        "        streak_total_list = ee.List(lists.get(1))  # Total streaks count\n",
        "        streak_days_list = ee.List(lists.get(2))   # Total days in valid streaks\n",
        "        streak_diff_list = ee.List(lists.get(3))   # Total temperature difference in valid streaks\n",
        "        streak_tmp_diff_list = ee.List(lists.get(4)) # Cumulative temperature difference\n",
        "\n",
        "        last_streak_count = ee.Image(streak_count_list.get(-1))\n",
        "        total_streaks = ee.Image(streak_total_list.get(-1))\n",
        "        total_days = ee.Image(streak_days_list.get(-1))\n",
        "        total_diff = ee.Image(streak_diff_list.get(-1))\n",
        "        total_diff_tmp = ee.Image(streak_tmp_diff_list.get(-1))\n",
        "\n",
        "        current_flag = img_flag.neq(0)  # Continue streak if not 0\n",
        "        new_streak_count = last_streak_count.add(current_flag).multiply(current_flag).float()\n",
        "        new_tmp_diff = total_diff_tmp.add(img_tmp_diff).multiply(current_flag).float()\n",
        "\n",
        "        # Check where a valid streak has potentially ended\n",
        "        ended_streak = last_streak_count.gte(3).And(img_flag.eq(0))\n",
        "        total_streaks = total_streaks.add(ended_streak).float()\n",
        "        total_days = total_days.add(last_streak_count.multiply(ended_streak)).float()\n",
        "        total_diff = total_diff.add(total_diff_tmp.multiply(ended_streak)).float()\n",
        "\n",
        "        updated_streak_count_list = streak_count_list.add(new_streak_count)\n",
        "        updated_streak_total_list = streak_total_list.add(total_streaks)\n",
        "        updated_streak_days_list = streak_days_list.add(total_days)\n",
        "        updated_streak_diff_list = streak_diff_list.add(total_diff)\n",
        "        updated_streak_tmp_diff_list = streak_tmp_diff_list.add(new_tmp_diff)\n",
        "\n",
        "        return ee.List([updated_streak_count_list, updated_streak_total_list, updated_streak_days_list,updated_streak_diff_list,updated_streak_tmp_diff_list])\n",
        "\n",
        "    # Initialize with zeros\n",
        "    initial_streak_count = ee.Image(0).rename('streak_count').float()\n",
        "    initial_total_streaks = ee.Image(0).rename('total_streaks').float()\n",
        "    initial_total_days = ee.Image(0).rename('total_days').float()\n",
        "    initial_total_diff = ee.Image(0).rename('total_diff').float()\n",
        "    initial_total_diff_tmp = ee.Image(0).rename('total_diff_tmp').float()\n",
        "\n",
        "    init_lists = ee.List([\n",
        "        ee.List([initial_streak_count]),\n",
        "        ee.List([initial_total_streaks]),\n",
        "        ee.List([initial_total_days]),\n",
        "        ee.List([initial_total_diff]),\n",
        "        ee.List([initial_total_diff_tmp])\n",
        "    ])\n",
        "\n",
        "    # Accumulate results\n",
        "    result_lists = temp_diff_collection.iterate(update_streaks, init_lists)\n",
        "\n",
        "    # Extract the final lists\n",
        "    final_streak_count_list = ee.List(ee.List(result_lists).get(0))\n",
        "    final_total_streaks_list = ee.List(ee.List(result_lists).get(1))\n",
        "    final_total_days_list = ee.List(ee.List(result_lists).get(2))\n",
        "    final_total_diff_list = ee.List(ee.List(result_lists).get(3))\n",
        "\n",
        "    # Convert these lists back to ImageCollections for further analysis or visualization\n",
        "    final_streak_counts = ee.ImageCollection.fromImages(final_streak_count_list)\n",
        "    final_total_streaks = ee.ImageCollection.fromImages(final_total_streaks_list)\n",
        "    final_total_days = ee.ImageCollection.fromImages(final_total_days_list)\n",
        "    final_total_diff = ee.ImageCollection.fromImages(final_total_diff_list)\n",
        "\n",
        "    # Calculate maximum streaks and days\n",
        "    max_streaks = final_total_streaks.max()\n",
        "    max_days = final_total_days.max()\n",
        "    max_diff = final_total_diff.max()\n",
        "\n",
        "    # Calculate average temperature difference for days that exceed the 90th percentile\n",
        "    average_temp_diff = max_diff.divide(max_days)\n",
        "\n",
        "    heatwave_indicators = max_streaks.float()\n",
        "    heatwave_indicators = heatwave_indicators.addBands(max_days.float())\n",
        "    heatwave_indicators = heatwave_indicators.addBands(average_temp_diff.float())\n",
        "    heatwave_indicators = heatwave_indicators.addBands(total_high_temp_degree_days.float())\n",
        "    heatwave_indicators = heatwave_indicators.rename([year +  '_hw_count', year + '_hw_days', year + '_hw_temp_diff', year + '_high_temp_degree_days'])\n",
        "\n",
        "    return heatwave_indicators\n"
      ],
      "metadata": {
        "id": "T7VBaFAZVrgX"
      },
      "execution_count": null,
      "outputs": []
    },
    {
      "cell_type": "code",
      "source": [
        "def calc_indicators_val(rolling_90th_percentile_collection, start_date, end_date, year):\n",
        "    # Load and filter the ERA5 daily temperature dataset within the AOI\n",
        "    era5_daily_target = ee.ImageCollection(\"ECMWF/ERA5_LAND/DAILY_AGGR\")\\\n",
        "                                  .filterDate(start_date, end_date)\\\n",
        "                                  .select('temperature_2m_max')\n",
        "\n",
        "    # Function to identify extreme temperature days\n",
        "    def identify_extremes(image):\n",
        "        day_of_year = ee.Date(image.date()).getRelative('day', 'year').add(1)\n",
        "        percentile_90_image = rolling_90th_percentile_collection.filterMetadata('day_of_year', 'equals', day_of_year).first()\n",
        "\n",
        "        #extreme_temp = image.gt(percentile_90_image)\n",
        "        extreme_temp_degree = image.gt(308.15)  # 35 degrees Celsius in Kelvin\n",
        "        temp_difference = image.subtract(percentile_90_image)\n",
        "\n",
        "        return ee.Image.cat(temp_difference.rename('temp_diff'),\n",
        "                            extreme_temp_degree.rename('extreme_temp_degree'))\n",
        "\n",
        "    # Map the function over the daily temperature collection\n",
        "    extremes_collection = era5_daily_target.map(identify_extremes)\n",
        "    # Sum all the temperature differences for extreme days\n",
        "    temp_diff_collection = extremes_collection.select('temp_diff')\n",
        "\n",
        "    return temp_diff_collection\n"
      ],
      "metadata": {
        "id": "KBdB6tsn3Pjv"
      },
      "execution_count": null,
      "outputs": []
    },
    {
      "cell_type": "code",
      "execution_count": null,
      "metadata": {
        "id": "0dLSPg8NOguZ"
      },
      "outputs": [],
      "source": [
        "def export_data(final_result, aoi, grid_id, folder):\n",
        "#band1: total number of heatwaves\n",
        "#band2: total days of heatwaves\n",
        "#band3: average tempearture difference in extreme heat days and 90 percentile th. scale factor =10\n",
        "#band4: extreme heat days over 35 degree celsius\n",
        "\n",
        "    down_args = {\n",
        "    'image': final_result,\n",
        "    'folder': folder,\n",
        "    'fileNamePrefix': 'hwi_' + grid_id,\n",
        "    'description': 'Heatwaves indicators',\n",
        "    'region': aoi,\n",
        "    'maxPixels': 1e13,\n",
        "    'crs': projection['crs'],\n",
        "    'crsTransform' : projection['transform'],\n",
        "    'fileFormat': 'GeoTIFF'\n",
        "    }\n",
        "    task = ee.batch.Export.image.toDrive(**down_args)\n",
        "    task.start()"
      ]
    },
    {
      "cell_type": "code",
      "execution_count": null,
      "metadata": {
        "id": "ZmxUHAD6RW8h"
      },
      "outputs": [],
      "source": [
        "# Apply the batch processing function\n",
        "#for i in range(120, 121):\n",
        "for i in range(grid_count):\n",
        "    coordinates = np.array([minx[i], maxy[i], maxx[i], miny[i]])\n",
        "    aoi = ee.Geometry.Rectangle(coordinates.tolist())\n",
        "    grid_id = str(tile_id[i])\n",
        "\n",
        "    rolling_90th_percentile_collection = get_90th_percentile_temp(aoi, grid_id, start_base, end_base, total_days, batch_size)\n",
        "\n",
        "    # Iterate by decades\n",
        "    for start_year in range(1960, 2024, 10):\n",
        "        end_year = min(start_year + 9, 2023)\n",
        "        folder = 'hwi_' + str(start_year) + 's'\n",
        "        final_result = mask.float()  # init land mask as the first layer\n",
        "        for y in range(start_year, end_year + 1):\n",
        "            year = str(y)\n",
        "            start_date = year + '-01-01'\n",
        "            end_date = year + '-12-31'\n",
        "            final_result = final_result.addBands(calc_indicators(rolling_90th_percentile_collection, start_date, end_date, year))\n",
        "\n",
        "        export_data(final_result, aoi, grid_id,folder)"
      ]
    }
  ],
  "metadata": {
    "colab": {
      "provenance": []
    },
    "kernelspec": {
      "display_name": "Python 3",
      "name": "python3"
    },
    "language_info": {
      "name": "python"
    }
  },
  "nbformat": 4,
  "nbformat_minor": 0
}