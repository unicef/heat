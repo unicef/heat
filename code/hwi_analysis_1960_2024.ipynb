{
  "cells": [
    {
      "cell_type": "code",
      "execution_count": null,
      "metadata": {
        "id": "DxXtOp6VLhmf"
      },
      "outputs": [],
      "source": [
        "from google.colab import drive\n",
        "\n",
        "# This will prompt for authorization.\n",
        "drive.mount('/content/drive')"
      ]
    },
    {
      "cell_type": "code",
      "execution_count": null,
      "metadata": {
        "id": "YA7zsVoVqu9u"
      },
      "outputs": [],
      "source": [
        "!pip install cartopy rasterio rasterstats -q"
      ]
    },
    {
      "cell_type": "code",
      "execution_count": null,
      "metadata": {
        "id": "BYCac8ENDFD_"
      },
      "outputs": [],
      "source": [
        "import ee\n",
        "import geopandas as gpd\n",
        "import pandas as pd\n",
        "import geopandas as gpd\n",
        "import numpy as np\n",
        "import time\n",
        "from rasterstats import zonal_stats\n",
        "import rasterio\n",
        "from osgeo import gdal\n",
        "import os\n",
        "import matplotlib.pyplot as plt\n",
        "import cartopy.crs as ccrs\n",
        "from matplotlib.colors import ListedColormap, BoundaryNorm\n",
        "from concurrent.futures import ThreadPoolExecutor\n",
        "\n"
      ]
    },
    {
      "cell_type": "code",
      "execution_count": null,
      "metadata": {
        "id": "cdqpyH2kFxx_"
      },
      "outputs": [],
      "source": [
        "base_folder = '/content/drive/MyDrive/hwi_product'\n",
        "output_folder = '/content/drive/MyDrive/hwi_stats/dgca_back'"
      ]
    },
    {
      "cell_type": "code",
      "execution_count": null,
      "metadata": {
        "id": "Qdl8GUYbhJB3"
      },
      "outputs": [],
      "source": [
        "##getting average HWI"
      ]
    },
    {
      "cell_type": "code",
      "execution_count": null,
      "metadata": {
        "colab": {
          "background_save": true
        },
        "id": "PZPg3tHyGC4H"
      },
      "outputs": [],
      "source": [
        "# Ensure the output folder exists\n",
        "os.makedirs(output_folder, exist_ok=True)\n",
        "\n",
        "# Initialize a dictionary to store annual global means\n",
        "global_means = {\n",
        "    'year': [],\n",
        "    'hw_count_mean': [],\n",
        "    'hw_days_mean': [],\n",
        "    'hw_temp_diff_mean': [],\n",
        "    'high_temp_degree_days_mean': []\n",
        "}\n",
        "\n",
        "# Iterate through the years with corresponding service accounts\n",
        "for index, start_year in enumerate(range(1960, 2024, 10), start=1):\n",
        "    print(f\"Index: {index}, Year: {start_year}\")\n",
        "    vrt_file = os.path.join(base_folder, f'hwi_{start_year}s/temp.vrt')\n",
        "\n",
        "    if os.path.exists(vrt_file):\n",
        "        with rasterio.open(vrt_file) as src:\n",
        "            num_years = (src.count - 1) // 4  # Each year has 4 bands for variables\n",
        "            print(f\"Number of years in this decade: {num_years}\")\n",
        "\n",
        "            # Initialize arrays to store sums for each variable\n",
        "            hw_count_sum = None\n",
        "            hw_days_sum = None\n",
        "            hw_temp_diff_sum = None\n",
        "            high_temp_degree_days_sum = None\n",
        "\n",
        "            for year in range(int(num_years)):\n",
        "                band_start = 2 + year * 4  # Skip the land mask band\n",
        "\n",
        "                # Read each variable for the year\n",
        "                hw_count = src.read(band_start)\n",
        "                hw_days = src.read(band_start + 1)\n",
        "                hw_temp_diff = src.read(band_start + 2)\n",
        "                high_temp_degree_days = src.read(band_start + 3)\n",
        "\n",
        "                # Initialize sum arrays if they are None\n",
        "                if hw_count_sum is None:\n",
        "                    hw_count_sum = np.zeros_like(hw_count, dtype='float32')\n",
        "                    hw_days_sum = np.zeros_like(hw_days, dtype='float32')\n",
        "                    hw_temp_diff_sum = np.zeros_like(hw_temp_diff, dtype='float32')\n",
        "                    high_temp_degree_days_sum = np.zeros_like(high_temp_degree_days, dtype='float32')\n",
        "\n",
        "                # Accumulate the sums\n",
        "                hw_count_sum += hw_count\n",
        "                hw_days_sum += hw_days\n",
        "                hw_temp_diff_sum += hw_temp_diff\n",
        "                high_temp_degree_days_sum += high_temp_degree_days\n",
        "\n",
        "                # Calculate annual global means\n",
        "                hw_count_mean = np.nanmean(hw_count)\n",
        "                hw_days_mean = np.nanmean(hw_days)\n",
        "                hw_temp_diff_mean = np.nanmean(hw_temp_diff)\n",
        "                high_temp_degree_days_mean = np.nanmean(high_temp_degree_days)\n",
        "\n",
        "                # Append to global means dictionary\n",
        "                global_means['year'].append(start_year + year)\n",
        "                global_means['hw_count_mean'].append(hw_count_mean)\n",
        "                global_means['hw_days_mean'].append(hw_days_mean)\n",
        "                global_means['hw_temp_diff_mean'].append(hw_temp_diff_mean)\n",
        "                global_means['high_temp_degree_days_mean'].append(high_temp_degree_days_mean)\n",
        "\n",
        "            # Calculate the average for each variable\n",
        "            hw_count_avg = hw_count_sum / num_years\n",
        "            hw_days_avg = hw_days_sum / num_years\n",
        "            hw_temp_diff_avg = hw_temp_diff_sum / num_years\n",
        "            high_temp_degree_days_avg = high_temp_degree_days_sum / num_years\n",
        "\n",
        "            # Define the metadata for the new raster file\n",
        "            meta = {\n",
        "                'driver': 'GTiff',\n",
        "                'height': src.height,\n",
        "                'width': src.width,\n",
        "                'count': 4,\n",
        "                'dtype': 'float32',\n",
        "                'crs': src.crs,\n",
        "                'transform': src.transform\n",
        "            }\n",
        "\n",
        "            # Save the average data to a new file\n",
        "            output_file = os.path.join(output_folder, f'average_hwi_{start_year}s.tif')\n",
        "            with rasterio.open(output_file, 'w', **meta) as dst:\n",
        "                dst.write(hw_count_avg, 1)\n",
        "                dst.write(hw_days_avg, 2)\n",
        "                dst.write(hw_temp_diff_avg, 3)\n",
        "                dst.write(high_temp_degree_days_avg, 4)\n",
        "\n",
        "            print(f\"Saved average temperature variables for {start_year}s to {output_file}\")\n",
        "\n",
        "# Save the global means to a CSV file\n",
        "csv_output_file = os.path.join(output_folder, 'annual_global_means.csv')\n",
        "df = pd.DataFrame(global_means)\n",
        "df.to_csv(csv_output_file, index=False)\n",
        "\n",
        "print(f\"Saved annual global means to {csv_output_file}\")\n"
      ]
    },
    {
      "cell_type": "code",
      "execution_count": null,
      "metadata": {
        "colab": {
          "background_save": true
        },
        "id": "1ELFny3B5psr"
      },
      "outputs": [],
      "source": [
        "#plot decadal change"
      ]
    },
    {
      "cell_type": "code",
      "execution_count": null,
      "metadata": {
        "colab": {
          "background_save": true
        },
        "id": "bxNkrSdg5piZ",
        "outputId": "b66683ec-80d2-4a46-fe93-5a76cf42136c"
      },
      "outputs": [
        {
          "name": "stderr",
          "output_type": "stream",
          "text": [
            "<ipython-input-9-32f7bdd301bc>:29: RuntimeWarning: invalid value encountered in divide\n",
            "  hw_avg_days = hw_days/hw_count\n"
          ]
        },
        {
          "data": {
            "image/png": "[encoded data removed]",
            "text/plain": [
              "<Figure size 1200x800 with 4 Axes>"
            ]
          },
          "metadata": {},
          "output_type": "display_data"
        }
      ],
      "source": [
        "\n",
        "# List of decades to process\n",
        "decades = list(range(1960, 2024, 10))\n",
        "\n",
        "# Initialize dictionaries to store the mean values for each variable by decade\n",
        "mean_values = {\n",
        "    'hw_count': [],\n",
        "    'hw_days': [],\n",
        "    'hw_temp_diff': [],\n",
        "    'high_temp_degree_days': []\n",
        "}\n",
        "\n",
        "# List to keep track of valid decades\n",
        "valid_decades = []\n",
        "\n",
        "with rasterio.open('/content/drive/MyDrive/hwi_product/hwi_1960s/temp.vrt') as src:\n",
        "    # Read the land mask\n",
        "    land_mask = src.read(1)\n",
        "    land_mask_nan = np.where(land_mask != 1, np.nan, 1)\n",
        "\n",
        "# Process each decade\n",
        "for start_year in decades:\n",
        "    output_file = os.path.join(output_folder, f'average_hwi_{start_year}s.tif')\n",
        "    if os.path.exists(output_file):\n",
        "        with rasterio.open(output_file) as src:\n",
        "            try:\n",
        "                # Read each band (variable) and calculate the mean value\n",
        "                hw_count = src.read(1) * land_mask_nan\n",
        "                hw_days = src.read(2) * land_mask_nan\n",
        "                hw_avg_days = hw_days/hw_count\n",
        "                hw_temp_diff = src.read(3) * land_mask_nan\n",
        "                high_temp_degree_days = src.read(4) * land_mask_nan\n",
        "\n",
        "                mean_values['hw_count'].append(np.nanmean(hw_count))\n",
        "                mean_values['hw_days'].append(np.nanmean(hw_avg_days))\n",
        "                mean_values['hw_temp_diff'].append(np.nanmean(hw_temp_diff))\n",
        "                mean_values['high_temp_degree_days'].append(np.nanmean(high_temp_degree_days))\n",
        "\n",
        "                # Append the valid decade\n",
        "                valid_decades.append(start_year)\n",
        "            except Exception as e:\n",
        "                print(f\"Error processing file for {start_year}: {e}\")\n",
        "\n",
        "# Create the bar plots with thicker bars\n",
        "bar_width = 5  # Adjust the width of the bars\n",
        "\n",
        "plt.figure(figsize=(12, 8))\n",
        "\n",
        "# Plot hw_count\n",
        "plt.subplot(2, 2, 1)\n",
        "plt.bar(valid_decades, mean_values['hw_count'], width=bar_width)\n",
        "plt.title('Heatwave Frequency')\n",
        "plt.xlabel('Decade')\n",
        "plt.ylabel('Heatwave Freqeuncy')\n",
        "\n",
        "# Plot hw_days\n",
        "plt.subplot(2, 2, 2)\n",
        "plt.bar(valid_decades, mean_values['hw_days'], width=bar_width)\n",
        "plt.title('Heatwave Duration')\n",
        "plt.xlabel('Decade')\n",
        "plt.ylabel('Heatwave Duration')\n",
        "\n",
        "# Plot hw_temp_diff\n",
        "plt.subplot(2, 2, 3)\n",
        "plt.bar(valid_decades, mean_values['hw_temp_diff'], width=bar_width)\n",
        "plt.title('Heatwave Severity')\n",
        "plt.xlabel('Decade')\n",
        "plt.ylabel('Heatwave Severity (°C)')\n",
        "\n",
        "# Plot high_temp_degree_days\n",
        "plt.subplot(2, 2, 4)\n",
        "plt.bar(valid_decades, mean_values['high_temp_degree_days'], width=bar_width)\n",
        "plt.title('Extreme High Temperature Days')\n",
        "plt.xlabel('Decade')\n",
        "plt.ylabel('Days over 35 °C')\n",
        "\n",
        "plt.tight_layout()\n",
        "plt.show()\n"
      ]
    },
    {
      "cell_type": "code",
      "execution_count": null,
      "metadata": {
        "colab": {
          "background_save": true
        },
        "id": "jQwS8GfhpX5g"
      },
      "outputs": [],
      "source": []
    },
    {
      "cell_type": "code",
      "execution_count": null,
      "metadata": {
        "colab": {
          "background_save": true
        },
        "id": "jy9gfJ0MwKhg"
      },
      "outputs": [],
      "source": [
        "import os\n",
        "import numpy as np\n",
        "import rasterio\n",
        "import matplotlib.pyplot as plt\n",
        "from matplotlib.colors import BoundaryNorm, ListedColormap\n",
        "import cartopy.crs as ccrs\n",
        "\n",
        "# Define the input files for the 1960s and 2020s\n",
        "file_1960s = os.path.join(output_folder, 'average_hwi_1960s.tif')\n",
        "file_2020s = os.path.join(output_folder, 'average_hwi_2020s.tif')\n",
        "\n",
        "# Initialize dictionaries to hold data for the 1960s and 2020s\n",
        "data_1960s = {}\n",
        "data_2020s = {}\n",
        "\n",
        "pop_vrt_path = '/content/drive/MyDrive/GPW4/pop.vrt'\n",
        "with rasterio.open(pop_vrt_path) as pop_src:\n",
        "    child_pop = pop_src.read(1)\n",
        "\n",
        "scale_factor = 11.132\n",
        "\n",
        "with rasterio.open('/content/drive/MyDrive/hwi_product/hwi_1960s/temp.vrt') as src:\n",
        "    # Read the land mask\n",
        "    land_mask = src.read(1)\n",
        "    land_mask_nan = np.where(land_mask != 1, np.nan, 1)\n",
        "\n",
        "# Function to read data from a file and store in the dictionary\n",
        "def read_data(file_path, data_dict):\n",
        "    if os.path.exists(file_path):\n",
        "        with rasterio.open(file_path) as src:\n",
        "            data_dict['hw_count'] = src.read(1) * land_mask_nan\n",
        "            data_dict['hw_days'] = src.read(2)/src.read(1) * land_mask_nan\n",
        "            data_dict['hw_temp_diff'] = src.read(3) * land_mask_nan\n",
        "            data_dict['high_temp_degree_days'] = src.read(4) * land_mask_nan\n",
        "\n",
        "# Read data for the 1960s and 2020s\n",
        "read_data(file_1960s, data_1960s)\n",
        "read_data(file_2020s, data_2020s)\n",
        "\n",
        "# Calculate the percentage increase for each indicator and handle invalid values\n",
        "percentage_increase = {}\n",
        "exposure50 = {}\n",
        "exposure100 = {}\n",
        "exposure200 = {}\n",
        "\n",
        "for key in data_1960s.keys():\n",
        "    with np.errstate(divide='ignore', invalid='ignore'):\n",
        "        percentage_increase[key] = ((data_2020s[key] - data_1960s[key]) / data_1960s[key]) * 100\n",
        "        percentage_increase[key] = np.ma.masked_invalid(percentage_increase[key])\n",
        "        mask_high_percentage = percentage_increase[key] > 50\n",
        "        exposure50[key] = np.nansum(child_pop[mask_high_percentage]) * scale_factor * scale_factor\n",
        "        mask_high_percentage = percentage_increase[key] > 100\n",
        "        exposure100[key] = np.nansum(child_pop[mask_high_percentage]) * scale_factor * scale_factor\n",
        "        mask_high_percentage = percentage_increase[key] > 200\n",
        "        exposure200[key] = np.nansum(child_pop[mask_high_percentage]) * scale_factor * scale_factor\n",
        "\n",
        "# Define the categories for the increases with a range up to 200%\n",
        "categories = {}\n",
        "for key in percentage_increase.keys():\n",
        "    categories[key] = np.zeros_like(percentage_increase[key], dtype=int)\n",
        "    categories[key][(percentage_increase[key] >= 0) & (percentage_increase[key] < 50)] = 1\n",
        "    categories[key][(percentage_increase[key] >= 50) & (percentage_increase[key] < 100)] = 2\n",
        "    categories[key][(percentage_increase[key] >= 100) & (percentage_increase[key] < 150)] = 3\n",
        "    categories[key][(percentage_increase[key] >= 150) & (percentage_increase[key] < 200)] = 4\n",
        "    categories[key][percentage_increase[key] >= 200] = 5\n",
        "\n",
        "# Define a more distinct colormap\n",
        "cmap = ListedColormap(['white', '#fee5d9', '#fcae91', '#fb6a4a', '#de2d26', '#a50f15'])\n",
        "bounds = [0, 1, 2, 3, 4, 5, 6]\n",
        "norm = BoundaryNorm(bounds, cmap.N)\n",
        "\n",
        "# Plotting\n",
        "fig, axs = plt.subplots(2, 2, figsize=(20, 12), subplot_kw={'projection': ccrs.Robinson()})\n",
        "fig.suptitle('Percentage Increase in Heatwave Indicators (1960s to 2020s)')\n",
        "\n",
        "indicators = ['hw_count', 'hw_days', 'hw_temp_diff', 'high_temp_degree_days']\n",
        "titles = ['Heatwave Frequency', 'Heatwave Duration', 'Heatwave Severity', 'Extreme Temperature Days']\n",
        "\n",
        "for ax, indicator, title in zip(axs.ravel(), indicators, titles):\n",
        "    ax.set_global()\n",
        "    ax.coastlines()\n",
        "    im = ax.imshow(categories[indicator], cmap=cmap, norm=norm, transform=ccrs.PlateCarree(),\n",
        "                   extent=(src.bounds.left, src.bounds.right, src.bounds.bottom, src.bounds.top))\n",
        "    ax.set_title(title)\n",
        "\n",
        "# Add colorbar with correct labels\n",
        "cbar = fig.colorbar(im, ax=axs, orientation='horizontal', pad=0.02, shrink=0.6, aspect=30, ticks=[1, 2, 3, 4, 5])\n",
        "cbar.ax.set_xticklabels(['< 50%', '50% - 100%', '100% - 150%', '150% - 200%', '> 200%'])\n",
        "cbar.set_label('Percentage Increase')\n",
        "\n",
        "plt.show()\n",
        "\n",
        "# Print the number of children exposed to >50% increase\n",
        "for key in exposure50.keys():\n",
        "    print(f\"Number of children exposed to >50% increase in {key.replace('_', ' ')}: {exposure50[key]:,.0f}\")\n"
      ]
    },
    {
      "cell_type": "code",
      "execution_count": null,
      "metadata": {
        "colab": {
          "background_save": true
        },
        "id": "qLgP1xaf2yD7"
      },
      "outputs": [],
      "source": [
        "for key in exposure100.keys():\n",
        "    print(f\"Number of children exposed to >100% increase in {key.replace('_', ' ')}: {exposure100[key]:,.0f}\")\n"
      ]
    },
    {
      "cell_type": "code",
      "execution_count": null,
      "metadata": {
        "colab": {
          "background_save": true
        },
        "id": "KF99vsXG_l_p"
      },
      "outputs": [],
      "source": [
        "for key in exposure200.keys():\n",
        "    print(f\"Number of children exposed to >200% increase in {key.replace('_', ' ')}: {exposure200[key]:,.0f}\")"
      ]
    },
    {
      "cell_type": "code",
      "execution_count": null,
      "metadata": {
        "colab": {
          "background_save": true
        },
        "id": "0nWg_sGU_u6_"
      },
      "outputs": [],
      "source": []
    },
    {
      "cell_type": "code",
      "execution_count": null,
      "metadata": {
        "colab": {
          "background_save": true
        },
        "collapsed": true,
        "id": "w2N_z998Fl5V"
      },
      "outputs": [],
      "source": [
        "import os\n",
        "import numpy as np\n",
        "import rasterio\n",
        "import matplotlib.pyplot as plt\n",
        "from matplotlib.colors import BoundaryNorm, ListedColormap\n",
        "import cartopy.crs as ccrs\n",
        "\n",
        "# Define the input files for each decade\n",
        "decades = ['1960s', '1970s', '1980s', '1990s', '2000s', '2010s', '2020s']\n",
        "data_files = {decade: os.path.join(output_folder, f'average_hwi_{decade}.tif') for decade in decades}\n",
        "\n",
        "# Initialize dictionary to hold data for each decade\n",
        "data_decades = {decade: {} for decade in decades}\n",
        "\n",
        "pop_vrt_path = '/content/drive/MyDrive/GPW4/pop.vrt'\n",
        "with rasterio.open(pop_vrt_path) as pop_src:\n",
        "    child_pop = pop_src.read(1)\n",
        "\n",
        "scale_factor = 11.132\n",
        "\n",
        "with rasterio.open('/content/drive/MyDrive/hwi_product/hwi_1960s/temp.vrt') as src:\n",
        "    # Read the land mask\n",
        "    land_mask = src.read(1)\n",
        "    land_mask_nan = np.where(land_mask != 1, np.nan, 1)\n",
        "\n",
        "# Function to read data from a file and store in the dictionary\n",
        "def read_data(file_path, data_dict):\n",
        "    if os.path.exists(file_path):\n",
        "        with rasterio.open(file_path) as src:\n",
        "            data_dict['hw_count'] = src.read(1) * land_mask_nan\n",
        "            data_dict['hw_days'] = src.read(2)/src.read(1) * land_mask_nan\n",
        "            data_dict['hw_temp_diff'] = src.read(3) * land_mask_nan\n",
        "            data_dict['high_temp_degree_days'] = src.read(4) * land_mask_nan\n",
        "\n",
        "# Read data for each decade\n",
        "for decade in decades:\n",
        "    read_data(data_files[decade], data_decades[decade])\n",
        "\n",
        "# Combine data for all decades to calculate overall mean and standard deviation\n",
        "combined_data = {indicator: [] for indicator in data_decades['1960s'].keys()}\n",
        "for decade in decades:\n",
        "    for indicator in combined_data.keys():\n",
        "        combined_data[indicator].append(data_decades[decade][indicator])\n",
        "\n",
        "# Calculate global mean and standard deviation across all decades and spatial dimensions\n",
        "mean_values = {indicator: np.nanmean(np.stack(combined_data[indicator]), axis=(0, 1, 2)) for indicator in combined_data.keys()}\n",
        "std_dev = {indicator: np.nanstd(np.stack(combined_data[indicator]), axis=(0, 1, 2)) for indicator in combined_data.keys()}\n",
        "\n"
      ]
    },
    {
      "cell_type": "code",
      "execution_count": null,
      "metadata": {
        "colab": {
          "background_save": true
        },
        "id": "dY8owbeTSASr"
      },
      "outputs": [],
      "source": [
        "# Identify areas where indicators are higher than 1, 2, and 3 standard deviations for the target year\n",
        "target_decade = '1970s'\n",
        "categories = {indicator: np.zeros_like(data_decades[target_decade][indicator]) for indicator in combined_data.keys()}\n",
        "\n",
        "exposure_2std = {}\n",
        "for indicator in mean_values.keys():\n",
        "    data = data_decades[target_decade][indicator]\n",
        "    categories[indicator][np.where(data > mean_values[indicator] + 3 * std_dev[indicator])] = 3\n",
        "    categories[indicator][np.where((data > mean_values[indicator] + 2 * std_dev[indicator]) & (data <= mean_values[indicator] + 3 * std_dev[indicator]))] = 2\n",
        "    categories[indicator][np.where((data > mean_values[indicator] + std_dev[indicator]) & (data <= mean_values[indicator] + 2 * std_dev[indicator]))] = 1\n",
        "    mask_high_percentage = np.where(data > mean_values[indicator] + 2 * std_dev[indicator])\n",
        "    exposure_2std[indicator] = np.nansum(child_pop[mask_high_percentage]) * scale_factor * scale_factor\n",
        "\n",
        "# Plotting the target year separately in a 2x2 layout\n",
        "fig, axs = plt.subplots(2, 2, figsize=(20, 12), subplot_kw={'projection': ccrs.Robinson()})\n",
        "fig.suptitle(f'Indicators Exceeding Standard Deviations ({target_decade})')\n",
        "\n",
        "indicators = ['hw_count', 'hw_days', 'hw_temp_diff', 'high_temp_degree_days']\n",
        "titles = ['Heatwave Frequency', 'Heatwave Duration', 'Heatwave Severity', 'Extreme Temperature Days']\n",
        "\n",
        "# Define a more distinct colormap\n",
        "cmap = ListedColormap(['white', 'yellow', 'orange', 'red'])\n",
        "bounds = [0, 1, 2, 3, 4]\n",
        "norm = BoundaryNorm(bounds, cmap.N)\n",
        "\n",
        "for ax, indicator, title in zip(axs.ravel(), indicators, titles):\n",
        "    ax.set_global()\n",
        "    ax.coastlines()\n",
        "    im = ax.imshow(categories[indicator], cmap=cmap, norm=norm, transform=ccrs.PlateCarree(),\n",
        "                   extent=(src.bounds.left, src.bounds.right, src.bounds.bottom, src.bounds.top))\n",
        "    ax.set_title(title)\n",
        "\n",
        "# Add colorbar with correct labels, positioned correctly\n",
        "fig.subplots_adjust(bottom=0.2)\n",
        "cbar_ax = fig.add_axes([0.15, 0.05, 0.7, 0.03])  # [left, bottom, width, height]\n",
        "cbar = fig.colorbar(im, cax=cbar_ax, orientation='horizontal', ticks=[1, 2, 3])\n",
        "cbar.ax.set_xticklabels(['> 1 STD', '> 2 STD', '> 3 STD'])\n",
        "cbar.set_label('Standard Deviations')\n",
        "\n",
        "plt.tight_layout(rect=[0, 0.1, 1, 0.95])\n",
        "plt.show()"
      ]
    },
    {
      "cell_type": "code",
      "execution_count": null,
      "metadata": {
        "colab": {
          "background_save": true
        },
        "id": "AU9-UNToHZSM"
      },
      "outputs": [],
      "source": [
        "# Print the number of children exposed to >50% increase\n",
        "for key in exposure_2std.keys():\n",
        "    print(f\"Number of children exposed to >2 Standard Deviation in {key.replace('_', ' ')}: {exposure_2std[key]:,.0f}\")\n"
      ]
    },
    {
      "cell_type": "code",
      "execution_count": null,
      "metadata": {
        "colab": {
          "background_save": true
        },
        "id": "3CFR_XEmRdIg"
      },
      "outputs": [],
      "source": []
    }
  ],
  "metadata": {
    "colab": {
      "machine_shape": "hm",
      "provenance": []
    },
    "kernelspec": {
      "display_name": "Python 3",
      "name": "python3"
    },
    "language_info": {
      "name": "python"
    }
  },
  "nbformat": 4,
  "nbformat_minor": 0
}